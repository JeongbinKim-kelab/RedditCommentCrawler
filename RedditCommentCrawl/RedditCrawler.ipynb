{
 "cells": [
  {
   "cell_type": "code",
   "execution_count": 2,
   "metadata": {},
   "outputs": [],
   "source": [
    "#Identification for Praw\n",
    "import praw\n",
    "reddit = praw.Reddit(\n",
    "    client_id=\n",
    "    client_secret=\n",
    "    user_agent=\n",
    "    username=\n",
    "    password=\n",
    ")"
   ]
  },
  {
   "cell_type": "code",
   "execution_count": 3,
   "metadata": {
    "collapsed": true
   },
   "outputs": [
    {
     "name": "stdout",
     "output_type": "stream",
     "text": [
      "1  :  Women of reddit, what do you think about the fall of constantinople in 1453 by the ottoman forces led by Mehmed II?\n",
      "2  :  People who have worked at Goodwill or other thrift stores etc. and processed donations, what’s the craziest thing you’ve found?\n",
      "3  :  Employers/Inteviewers of Reddit, why do you ask the \"So why are you interested in this job?\" to people interviewing for basic jobs like a pizza delivery driver or a receptionist?\n",
      "4  :  What is the weirdest thing your body does that no one else’s does?\n",
      "5  :  What's something good that happened in 2020?\n",
      "6  :  You can beat a person up but the catch is you have do it in synchronization with music. What music are you going to choose?\n",
      "7  :  In your opinion, what is the ugliest word in the English language?\n",
      "8  :  What opinion do you have that you hesitate to express in real life?\n",
      "9  :  What’s the worst mistake human(s) have made?\n",
      "10  :  What is the stupidest thing you saw someone do in high school?\n",
      "11  :  You find a gun in your mailbox with a note attached saying “kill someone in the next 24hrs or your family dies”. What’s your next move reddit?\n",
      "12  :  What childhood video game would you love to see remastered?\n",
      "13  :  You're an alien studying the earth and all its inhabitants. What observations do you report back to the mothership?\n",
      "14  :  You’re held at gunpoint. Flawlessly recite the lyrics to a song of your choice and you’re free to go. Which song do you choose?\n",
      "15  :  What is the scariest thing you’ve ever witnessed?\n",
      "16  :  What’s your “Task Failed Successfully\" story?\n",
      "17  :  What game mechanic you wished you had in real life?\n",
      "18  :  What are your thoughts and opinions about anime?\n",
      "19  :  How would you react if you woke up as the opposite sex and couldn't change back?\n",
      "20  :  (serious) Mentally ill people of reddit, what should people around you do in order to make you feel comfortable and better regarding your mental health?\n"
     ]
    }
   ],
   "source": [
    "#Taking Top20 Post at AskReddit\n",
    "subreddit = reddit.subreddit('AskReddit').top(\"day\", limit=30)\n",
    "top_20 = []\n",
    "for submission in subreddit:\n",
    "    if not submission.over_18:\n",
    "        top_20.append(submission)\n",
    "    if len(top_20) == 20:\n",
    "        break\n",
    "    #print(submission.over_18)\n",
    "#for submission in subreddit.top(\"day\", limit=20):\n",
    "#    top_20.append(submission)\n",
    "for i, top in enumerate(top_20):\n",
    "    print(i+1, \" : \", top.title)"
   ]
  },
  {
   "cell_type": "code",
   "execution_count": 4,
   "metadata": {},
   "outputs": [],
   "source": [
    "import pymysql\n",
    "connection = pymysql.connect(host='',\n",
    "                            user='',\n",
    "                            password='',\n",
    "                            db='',\n",
    "                            charset='utf8mb4',\n",
    "                            )"
   ]
  },
  {
   "cell_type": "code",
   "execution_count": 5,
   "metadata": {},
   "outputs": [],
   "source": [
    "#데이터 전처리 및 깊이 탐색 부분\n",
    "from praw.models import MoreComments\n",
    "import crwaldef"
   ]
  },
  {
   "cell_type": "code",
   "execution_count": 1,
   "metadata": {
    "scrolled": true
   },
   "outputs": [
    {
     "ename": "NameError",
     "evalue": "name 'top_20' is not defined",
     "output_type": "error",
     "traceback": [
      "\u001b[1;31m---------------------------------------------------------------------------\u001b[0m",
      "\u001b[1;31mNameError\u001b[0m                                 Traceback (most recent call last)",
      "\u001b[1;32m<ipython-input-1-9ef0ef171110>\u001b[0m in \u001b[0;36m<module>\u001b[1;34m\u001b[0m\n\u001b[0;32m      1\u001b[0m \u001b[0moneday_max_depth\u001b[0m \u001b[1;33m=\u001b[0m \u001b[1;33m[\u001b[0m\u001b[1;33m]\u001b[0m\u001b[1;33m\u001b[0m\u001b[1;33m\u001b[0m\u001b[0m\n\u001b[0;32m      2\u001b[0m \u001b[0moneday_three_max_depth\u001b[0m \u001b[1;33m=\u001b[0m \u001b[1;33m[\u001b[0m\u001b[1;33m]\u001b[0m\u001b[1;33m\u001b[0m\u001b[1;33m\u001b[0m\u001b[0m\n\u001b[1;32m----> 3\u001b[1;33m \u001b[1;32mfor\u001b[0m \u001b[0mpost\u001b[0m \u001b[1;32min\u001b[0m \u001b[0mtop_20\u001b[0m\u001b[1;33m[\u001b[0m\u001b[1;36m1\u001b[0m\u001b[1;33m:\u001b[0m\u001b[1;36m19\u001b[0m\u001b[1;33m]\u001b[0m\u001b[1;33m:\u001b[0m\u001b[1;33m\u001b[0m\u001b[1;33m\u001b[0m\u001b[0m\n\u001b[0m\u001b[0;32m      4\u001b[0m \u001b[1;33m\u001b[0m\u001b[0m\n\u001b[0;32m      5\u001b[0m     \u001b[0mall_list\u001b[0m \u001b[1;33m=\u001b[0m \u001b[1;33m[\u001b[0m\u001b[1;33m]\u001b[0m\u001b[1;33m\u001b[0m\u001b[1;33m\u001b[0m\u001b[0m\n",
      "\u001b[1;31mNameError\u001b[0m: name 'top_20' is not defined"
     ]
    }
   ],
   "source": [
    "oneday_max_depth = []\n",
    "oneday_three_max_depth = []\n",
    "for post in top_20[1:19]:\n",
    "\n",
    "    all_list = []\n",
    "    comment_info = []\n",
    "    \n",
    "    post_info = crwaldef.parse_submission(post)   #Post정보\n",
    "    crwaldef.print_Data(post_info) #Post정보 출력\n",
    "    \n",
    "    post_comment = post.comments.replace_more(limit=None)  #Comments의 모든 정보를 사용할 수 있게 만든다.\n",
    "    for comment in post.comments.list(): #정보들의 대표 값을 list에 삽입\n",
    "        comment_info.append(crwaldef.parse_comment(comment))\n",
    "    \n",
    "    comment_length = len(comment_info) #스팸 데이터를 지운 후의 댓글 수\n",
    "    #print('comment_count : ', comment_length, \"\\n\")\n",
    "    comment_info = crwaldef.comment_Preprocessing(comment_info)\n",
    "\n",
    "    for comment in comment_info:\n",
    "        crwaldef.all_Find_Depth(comment, all_list)\n",
    "    all_list.sort(key=lambda x:x[2], reverse=True)\n",
    "\n",
    "    final_list = crwaldef.tree_Clean(all_list)\n",
    "\n",
    "    top_3_comments = []\n",
    "    top_3_ids = []\n",
    "    for i in final_list:\n",
    "        top_c, top_i = in_top3(i[1])\n",
    "        top_3_comments.append(top_c)\n",
    "        top_3_ids.append(top_i)\n",
    "        #top_3_comments.append(in_top3(i[1]))\n",
    "    #print(top_3_comments)\n",
    "    #print('코멘트 라인 수 : ', len(top_3_comments))\n",
    "    #print('각 라인 길이 : ', len(top_3_comments[0]), \" \", len(top_3_comments[1]), \" \", len(top_3_comments[2]))\n",
    "    oneday_max_depth.append(len(top_3_comments[0]))\n",
    "    for i in range(len(top_3_comments)):\n",
    "        oneday_three_max_depth.append(len(top_3_comments[i]))\n",
    "\n",
    "    save_comments = crwaldef.jump_Comment(top_3_comments)\n",
    "    #save_ids = crwaldef.jump_Comment(top_3_ids)\n",
    "    #print(save_comments)\n",
    "    #print(save_ids)\n",
    "    cursor = connection.cursor()\n",
    "    sql = \"insert into new_conversation(parent_com, child_com) values(%s, %s)\"\n",
    "    #sql1 = \"insert into id(parent_id, child_id) values(%s, %s)\"\n",
    "    cursor.executemany(sql, save_comments)\n",
    "    #cursor.executemany(sql1, save_ids)\n",
    "\n",
    "\n",
    "connection.commit()\n",
    "connection.close()"
   ]
  },
  {
   "cell_type": "code",
   "execution_count": null,
   "metadata": {},
   "outputs": [],
   "source": []
  },
  {
   "cell_type": "code",
   "execution_count": null,
   "metadata": {},
   "outputs": [],
   "source": []
  }
 ],
 "metadata": {
  "kernelspec": {
   "display_name": "Python 3",
   "language": "python",
   "name": "python3"
  },
  "language_info": {
   "codemirror_mode": {
    "name": "ipython",
    "version": 3
   },
   "file_extension": ".py",
   "mimetype": "text/x-python",
   "name": "python",
   "nbconvert_exporter": "python",
   "pygments_lexer": "ipython3",
   "version": "3.6.10"
  }
 },
 "nbformat": 4,
 "nbformat_minor": 4
}
